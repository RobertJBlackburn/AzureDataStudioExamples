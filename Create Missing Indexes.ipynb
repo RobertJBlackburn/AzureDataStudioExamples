{
    "metadata": {
        "kernelspec": {
            "name": "SQL",
            "display_name": "SQL",
            "language": "sql"
        },
        "language_info": {
            "name": "sql",
            "version": ""
        }
    },
    "nbformat_minor": 2,
    "nbformat": 4,
    "cells": [
        {
            "cell_type": "markdown",
            "source": [
                "# Create Missing Indexes"
            ],
            "metadata": {
                "azdata_cell_guid": "5a972037-cbf6-42d4-8b1d-8d613db00488"
            }
        },
        {
            "cell_type": "markdown",
            "source": [
                "## Run the following query\r\n",
                "\r\n",
                "Start with the defaults to look for the biggest impact\r\n",
                "\r\n",
                "Adjust the paramters as need to additional performance needs"
            ],
            "metadata": {
                "azdata_cell_guid": "d5a2a4b6-94d6-46ec-ae22-c4e7665ee3f1"
            }
        },
        {
            "cell_type": "code",
            "source": [
                "DECLARE @MinDBImpact int = 10,     -- > 10k high impact, look at > 1k if needed\r\n",
                "\t\t@DBName nvarchar(50) = null,  -- Filter by DB \r\n",
                "\t\t@MinRowCount int = 100,     -- remove small tables from analysis\r\n",
                "\t\t@MinUserImpact int = 20       -- remove low impact indexes\r\n",
                "\r\n",
                "\r\n",
                "SELECT Substring(statement, Charindex('.', statement) + 1, 99)        AS        TableName, \r\n",
                "       rc.[rowcount]                                                  AS        Row_Count, \r\n",
                "       CONVERT (DECIMAL (28, 1), migs.avg_total_user_cost * migs.avg_user_impact * (migs.user_seeks + migs.user_scans )) AS improvement_measure, \r\n",
                "       'CREATE INDEX IX_' \r\n",
                "       + Replace(Replace(Replace(Substring(statement, Charindex('.', statement, Charindex('.', statement)+1)+1, 99), '[', ''), ']', ''), ' ', '_') \r\n",
                "       + '_' \r\n",
                "       + Replace(Replace(Replace(Replace(Isnull(mid.equality_columns, inequality_columns), '[', ''), ']', ''), ' ', '_'), ',', '') \r\n",
                "       + ' ON ' \r\n",
                "       + Substring(statement, Charindex('.', statement)+1, 99) + ' (' + Isnull (mid.equality_columns, '') \r\n",
                "\t   + CASE WHEN mid.equality_columns IS NOT NULL AND mid.inequality_columns IS NOT NULL \r\n",
                "\t\t      THEN ',' ELSE '' END \r\n",
                "       + Isnull (mid.inequality_columns, '') + ')' \r\n",
                "       + Isnull (' INCLUDE (' + mid.included_columns + ')', '')       AS        create_index_statement, \r\n",
                "       migs.last_user_seek,\r\n",
                "\t   migs.avg_total_user_cost,\r\n",
                "\t   migs.avg_user_impact\r\n",
                "FROM   sys.dm_db_missing_index_groups mig \r\n",
                "       INNER JOIN sys.dm_db_missing_index_group_stats migs \r\n",
                "               ON migs.group_handle = mig.index_group_handle \r\n",
                "       INNER JOIN sys.dm_db_missing_index_details mid \r\n",
                "               ON mig.index_handle = mid.index_handle \r\n",
                "       JOIN (SELECT Quotename(Schema_name(sOBJ.schema_id)) \r\n",
                "                    + '.' + Quotename(sOBJ.NAME) AS [TableName], \r\n",
                "                    Sum(sdmvPTNS.row_count)      AS [RowCount] \r\n",
                "             FROM   sys.objects AS sOBJ \r\n",
                "                    INNER JOIN sys.dm_db_partition_stats AS sdmvPTNS \r\n",
                "                            ON sOBJ.object_id = sdmvPTNS.object_id \r\n",
                "             WHERE  sOBJ.type = 'U' \r\n",
                "                    AND sOBJ.is_ms_shipped = 0x0 \r\n",
                "                    AND sdmvPTNS.index_id < 2 \r\n",
                "             GROUP  BY sOBJ.schema_id, \r\n",
                "                       sOBJ.NAME) rc \r\n",
                "         ON rc.tablename = Substring(statement, Charindex('.', statement) + 1, 99) \r\n",
                "WHERE  CONVERT (DECIMAL (28, 1), migs.avg_total_user_cost * migs.avg_user_impact * (migs.user_seeks + migs.user_scans )) > @MinDBImpact\r\n",
                "       AND statement LIKE concat('%',@DBName, '%') -- filter by DB \r\n",
                "       AND avg_user_impact > @MinUserImpact -- filter by User Impact  \r\n",
                "       AND rc.[rowcount] > @MinRowCount \r\n",
                "ORDER  BY Substring(statement, Charindex('.', statement) + 1, 99), \r\n",
                "          migs.avg_total_user_cost * migs.avg_user_impact * (migs.user_seeks + migs.user_scans ) DESC "
            ],
            "metadata": {
                "azdata_cell_guid": "62f3fc6c-c334-409f-9ae4-7c4fde896bcc"
            },
            "outputs": [
                {
                    "output_type": "display_data",
                    "data": {
                        "text/html": "(2 rows affected)"
                    },
                    "metadata": {}
                },
                {
                    "output_type": "display_data",
                    "data": {
                        "text/html": "Total execution time: 00:00:00.023"
                    },
                    "metadata": {}
                },
                {
                    "output_type": "execute_result",
                    "metadata": {},
                    "execution_count": 5,
                    "data": {
                        "application/vnd.dataresource+json": {
                            "schema": {
                                "fields": [
                                    {
                                        "name": "TableName"
                                    },
                                    {
                                        "name": "Row_Count"
                                    },
                                    {
                                        "name": "improvement_measure"
                                    },
                                    {
                                        "name": "create_index_statement"
                                    },
                                    {
                                        "name": "last_user_seek"
                                    },
                                    {
                                        "name": "avg_total_user_cost"
                                    },
                                    {
                                        "name": "avg_user_impact"
                                    }
                                ]
                            },
                            "data": [
                                {
                                    "0": "[Person].[BusinessEntityAddress]",
                                    "1": "19614",
                                    "2": "63.3",
                                    "3": "CREATE INDEX IX_BusinessEntityAddress_AddressTypeID ON [Person].[BusinessEntityAddress] ([AddressTypeID])",
                                    "4": "2020-07-24 12:02:21.830",
                                    "5": "0.859344507816509",
                                    "6": "24.57"
                                },
                                {
                                    "0": "[Sales].[SalesOrderHeader]",
                                    "1": "31465",
                                    "2": "76.8",
                                    "3": "CREATE INDEX IX_SalesOrderHeader_SalesPersonID ON [Sales].[SalesOrderHeader] ([SalesPersonID]) INCLUDE ([OrderDate], [SubTotal])",
                                    "4": "2020-07-24 12:02:18.577",
                                    "5": "0.8426846667099908",
                                    "6": "91.18"
                                }
                            ]
                        },
                        "text/html": [
                            "<table>",
                            "<tr><th>TableName</th><th>Row_Count</th><th>improvement_measure</th><th>create_index_statement</th><th>last_user_seek</th><th>avg_total_user_cost</th><th>avg_user_impact</th></tr>",
                            "<tr><td>[Person].[BusinessEntityAddress]</td><td>19614</td><td>63.3</td><td>CREATE INDEX IX_BusinessEntityAddress_AddressTypeID ON [Person].[BusinessEntityAddress] ([AddressTypeID])</td><td>2020-07-24 12:02:21.830</td><td>0.859344507816509</td><td>24.57</td></tr>",
                            "<tr><td>[Sales].[SalesOrderHeader]</td><td>31465</td><td>76.8</td><td>CREATE INDEX IX_SalesOrderHeader_SalesPersonID ON [Sales].[SalesOrderHeader] ([SalesPersonID]) INCLUDE ([OrderDate], [SubTotal])</td><td>2020-07-24 12:02:18.577</td><td>0.8426846667099908</td><td>91.18</td></tr>",
                            "</table>"
                        ]
                    }
                }
            ],
            "execution_count": 5
        },
        {
            "cell_type": "markdown",
            "source": [
                "Group results by table starting with the highst impact\r\n",
                "\r\n",
                "Look and script out existing indexes for the table\r\n",
                "\r\n",
                "Compare suggestions and existing indexes. If there is overlap, merge the indexes. If the suggestion is to include most of the columns in the table, it is probably not worth including all columns.\r\n",
                "\r\n",
                "Example:\r\n",
                "\r\n",
                "Suggested index: CREATE INDEX IX_SalesOrderHeader_SalesPersonID ON [Sales].[SalesOrderHeader] ([SalesPersonID]) INCLUDE ([OrderDate], [SubTotal])\r\n",
                "\r\n",
                "No index exists for SalesPersonID. So it is a good candidate to create. Copy the index to a new code box and run.\r\n",
                "\r\n",
                ""
            ],
            "metadata": {
                "azdata_cell_guid": "e0a00790-dff8-4fdc-a2d6-f198e810e471"
            }
        },
        {
            "cell_type": "code",
            "source": [
                "CREATE INDEX IX_SalesOrderHeader_SalesPersonID ON [Sales].[SalesOrderHeader] ([SalesPersonID]) INCLUDE ([OrderDate], [SubTotal])"
            ],
            "metadata": {
                "azdata_cell_guid": "b521ff0e-e1d4-4631-accc-1868f4c8e209"
            },
            "outputs": [
                {
                    "output_type": "display_data",
                    "data": {
                        "text/html": "Commands completed successfully."
                    },
                    "metadata": {}
                },
                {
                    "output_type": "display_data",
                    "data": {
                        "text/html": "Total execution time: 00:00:00.031"
                    },
                    "metadata": {}
                }
            ],
            "execution_count": 6
        }
    ]
}