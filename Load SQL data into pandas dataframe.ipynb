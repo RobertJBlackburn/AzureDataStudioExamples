{
    "metadata": {
        "kernelspec": {
            "name": "python3",
            "display_name": "Python 3"
        },
        "language_info": {
            "name": "python",
            "version": "3.7.3",
            "mimetype": "text/x-python",
            "codemirror_mode": {
                "name": "ipython",
                "version": 3
            },
            "pygments_lexer": "ipython3",
            "nbconvert_exporter": "python",
            "file_extension": ".py"
        }
    },
    "nbformat_minor": 2,
    "nbformat": 4,
    "cells": [
        {
            "cell_type": "markdown",
            "source": [
                "# Load a dataframe with SQL output\r\n",
                ""
            ],
            "metadata": {
                "azdata_cell_guid": "77623132-39da-4d9b-a7d6-073fb8816277"
            }
        },
        {
            "cell_type": "code",
            "source": [
                "import pyodbc\n",
                "import pandas as pd \n",
                "server = 'localhost'\n",
                "database = 'demo'\n",
                "driver= '{ODBC Driver 17 for SQL Server}'\n",
                "sql_conn = pyodbc.connect('DRIVER='+driver+';SERVER='+server+';DATABASE='+database+';Trusted_Connection=yes') \n",
                "\n",
                "query = \"SELECT * FROM INFORMATION_SCHEMA.TABLES\"\n",
                "df = pd.read_sql(query, sql_conn)\n",
                "display (df)            "
            ],
            "metadata": {
                "azdata_cell_guid": "60f774b6-d51e-4c2a-9d7c-4197795fb78e",
                "tags": []
            },
            "outputs": [
                {
                    "data": {
                        "text/plain": "  TABLE_CATALOG TABLE_SCHEMA        TABLE_NAME  TABLE_TYPE\n0          Demo          dbo           testcol  BASE TABLE\n1          Demo          dbo        ReportList  BASE TABLE\n2          Demo          dbo  SalesTransaction  BASE TABLE\n3          Demo          dbo          Dim_Date  BASE TABLE",
                        "text/html": "<div>\n<style scoped>\n    .dataframe tbody tr th:only-of-type {\n        vertical-align: middle;\n    }\n\n    .dataframe tbody tr th {\n        vertical-align: top;\n    }\n\n    .dataframe thead th {\n        text-align: right;\n    }\n</style>\n<table border=\"1\" class=\"dataframe\">\n  <thead>\n    <tr style=\"text-align: right;\">\n      <th></th>\n      <th>TABLE_CATALOG</th>\n      <th>TABLE_SCHEMA</th>\n      <th>TABLE_NAME</th>\n      <th>TABLE_TYPE</th>\n    </tr>\n  </thead>\n  <tbody>\n    <tr>\n      <th>0</th>\n      <td>Demo</td>\n      <td>dbo</td>\n      <td>testcol</td>\n      <td>BASE TABLE</td>\n    </tr>\n    <tr>\n      <th>1</th>\n      <td>Demo</td>\n      <td>dbo</td>\n      <td>ReportList</td>\n      <td>BASE TABLE</td>\n    </tr>\n    <tr>\n      <th>2</th>\n      <td>Demo</td>\n      <td>dbo</td>\n      <td>SalesTransaction</td>\n      <td>BASE TABLE</td>\n    </tr>\n    <tr>\n      <th>3</th>\n      <td>Demo</td>\n      <td>dbo</td>\n      <td>Dim_Date</td>\n      <td>BASE TABLE</td>\n    </tr>\n  </tbody>\n</table>\n</div>"
                    },
                    "metadata": {},
                    "output_type": "display_data"
                }
            ],
            "execution_count": 1
        }
    ]
}